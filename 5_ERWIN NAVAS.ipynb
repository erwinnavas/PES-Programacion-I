{
 "cells": [
  {
   "cell_type": "markdown",
   "metadata": {},
   "source": [
    "# Tarea #6\n",
    "**Programacion I**"
   ]
  },
  {
   "cell_type": "markdown",
   "metadata": {},
   "source": [
    "## Ejercicio 1\n",
    "\n",
    "Ejecute el siguiente programa y explique su procedimiento y el porqué del resultado. "
   ]
  },
  {
   "cell_type": "code",
   "execution_count": null,
   "metadata": {},
   "outputs": [],
   "source": [
    "def Recusion(f):\n",
    "    f(f)\n",
    "    \n",
    "Recusion(Recusion)\n",
    "\n",
    "#Procedimiento:\n",
    "    #1. Se define la función recursión\n",
    "    #2. Recursión se valúa en la función recursión\n",
    "        #2.1 La función recursión se valúa en f, es decir f(recursión)\n",
    "        #2.2 Se ejecuta nuevamente la función recursión.\n",
    "        #2.3 Se repite el ciclo infinito, hasta que se excede la capacidad máxima."
   ]
  },
  {
   "cell_type": "markdown",
   "metadata": {},
   "source": [
    "## Ejercicio 2\n",
    "\n",
    "Vea el siguiente vídeo: <https://www.youtube.com/watch?v=qxRW5pDT2o4>  \n",
    "\n",
    "Complete el código siguiente para encontrar el máximo común divisor dado dos números enteros. \n",
    "\n",
    "Las condiciones básicas, son:"
   ]
  },
  {
   "cell_type": "markdown",
   "metadata": {},
   "source": [
    "Para dos números $a$ y $b$, tal que $b\\leq a$:\n",
    "* $mcd(a,0) = a$\n",
    "* Si $b\\vert a$ (divida enteramente), entonces $mcd(a,b)=b$\n",
    "* En otro caso, $mcd(a,b) = mcd(b,a \\,mod \\, b)$\n",
    "\n"
   ]
  },
  {
   "cell_type": "code",
   "execution_count": null,
   "metadata": {},
   "outputs": [],
   "source": [
    "def mcd(a,b):\n",
    "    '''Donde a >= b'''\n",
    "    if b == 0:        #Encuentre la condición:   \n",
    "        return a\n",
    "    elif a % b ==0:       #Añada la condición faltante:\n",
    "        return b          #Añada el procedimiento faltante:\n",
    "    else:\n",
    "        return mcd(b,a%b)\n",
    "mcd(20,12)    "
   ]
  },
  {
   "cell_type": "markdown",
   "metadata": {},
   "source": [
    "## Ejercicio 3\n",
    "\n",
    "Implemente un algoritmo recursivo para obtener la parte entera de la división entre dos números enteros. (Pista: Asocie con la resta)."
   ]
  },
  {
   "cell_type": "code",
   "execution_count": null,
   "metadata": {},
   "outputs": [],
   "source": [
    "#ingresar numeros a dividir\n",
    "y=56\n",
    "x=26\n",
    "print(y//x)\n",
    "a=x\n",
    "b=y\n",
    "\n",
    "\n",
    "def divEntera(a,b):\n",
    "    '''Donde a divide a y b distinto de cero'''\n",
    "    if b - a == 0:\n",
    "        return 1\n",
    "    elif b - a < a:\n",
    "        return 1\n",
    "    else:\n",
    "        return (divEntera(a,b-a))+1\n",
    "print(divEntera(a,b))\n"
   ]
  },
  {
   "cell_type": "markdown",
   "metadata": {},
   "source": [
    "# Ejercicio 4\n",
    "\n",
    "En el ejemplo de clase (Coordinate), modifique el método constructor para que verifique que los argumentos $x$ y $y$ sean flotantes.  "
   ]
  },
  {
   "cell_type": "code",
   "execution_count": null,
   "metadata": {},
   "outputs": [],
   "source": [
    "class Coordinate(object):\n",
    "    # Atributos (datos, funciones)    \n",
    "    # Método constructor\n",
    "    def __init__(self, x, y):\n",
    "        # ¿Cómo queremos inicializar el objeto?\n",
    "        assert type(x) == float and type(y) == float, \"x, y no son flotantes\"\n",
    "        self.x = x\n",
    "        self.y = y    \n",
    "Coordinate('a','b')"
   ]
  },
  {
   "cell_type": "markdown",
   "metadata": {},
   "source": [
    "# Ejercicio 5\n",
    "\n",
    "1. Cree una clase llamada ``Persona``, que asigne una cadena a la propiedad ``nombre`` y un número entero a la propiedad ``edad``. Al imprimir el objeto, debe concatenar tanto el nombre con la edad. \n",
    "2. A la clase anterior, añada un método para sumar dos objetos de tipo ``Persona``. El resultado debe ser ambos nombres concatenados y la suma de ambas edades.\n",
    "3. Modifique la clase para que el objeto tenga otra propiedad llamada ``altura``. Cuando se solicite la longitud del objeto, muestre la altura. También debe modificar el método de impresión para que muestre la altura. ¿Qué pasa con el método de suma?\n",
    "\n"
   ]
  },
  {
   "cell_type": "code",
   "execution_count": null,
   "metadata": {},
   "outputs": [],
   "source": [
    "class Persona(object):\n",
    "    def __init__ (self, nombre, edad, altura):\n",
    "        assert type(nombre) == str,\"nombre no es de tipo cadena\" \n",
    "        assert type(edad) == int, \"edad no es de tipo entero \"\n",
    "        assert type(altura) == int, \"altura no es de tipo entero \"\n",
    "        self.nombre = nombre\n",
    "        self.edad = edad\n",
    "        self.altura = altura\n",
    "    \n",
    "    def __str__(self):\n",
    "        return str(self.nombre)+\" \"+str(self.edad)+\" \"+str(self.altura)\n",
    "    \n",
    "    def __add__(self, other):\n",
    "        nombre_x = self.nombre + \" \" + other.nombre\n",
    "        edad_x = self.edad + other.edad\n",
    "        return Persona(nombre_x,edad_x)\n",
    "    \n",
    "    def __len__(self):\n",
    "        return int(self.altura)\n",
    "    \n",
    "    "
   ]
  },
  {
   "cell_type": "code",
   "execution_count": null,
   "metadata": {},
   "outputs": [],
   "source": [
    "Erwin_ = Persona(\"Erwin\",34)\n",
    "Ernesto_=Persona(\"Ernesto\",30)\n",
    "print(Erwin_)\n",
    "print(Erwin_+Ernesto_)"
   ]
  },
  {
   "cell_type": "code",
   "execution_count": null,
   "metadata": {},
   "outputs": [],
   "source": [
    "Erwin_ = Persona(\"Erwin\",34,175)\n",
    "Ernesto_=Persona(\"Ernesto\",30,181)\n",
    "print(Erwin_)\n",
    "print(Erwin_+Ernesto_)"
   ]
  },
  {
   "cell_type": "markdown",
   "metadata": {},
   "source": [
    "No se ejecuta el objeto suma, porque al crear los "
   ]
  },
  {
   "cell_type": "code",
   "execution_count": null,
   "metadata": {},
   "outputs": [],
   "source": [
    "Erwin_ = Persona(\"Erwin\",34,175)\n",
    "Ernesto_=Persona(\"Ernesto\",30,181)\n",
    "len(Erwin_)"
   ]
  },
  {
   "cell_type": "code",
   "execution_count": 3,
   "metadata": {},
   "outputs": [],
   "source": [
    "class Canasta(object):\n",
    "    def __init__(self, cerveza, ocio, ceviche):\n",
    "        self.cerveza=cerveza\n",
    "        self.ocio=ocio\n",
    "        self.ceviche=ceviche\n",
    "\n",
    "    \n",
    "    def __lt__(self, other):\n",
    "        utilidad_canasta_1=self.cerveza**0.3*\\\n",
    "                           self.ocio**0.6*\\\n",
    "                           self.ceviche**0.1\n",
    "        \n",
    "        utilidad_canasta_n=other.cerveza**0.3*\\\n",
    "                           other.ocio**0.6*\\\n",
    "                           other.ceviche**0.1\n",
    "        return utilidad_canasta_1<utilidad_canasta_n\n",
    "        \n",
    "    def __eq__(self, other):\n",
    "        utilidad_canasta_1=self.cerveza**0.3*\\\n",
    "                           self.ocio**0.6*\\\n",
    "                           self.ceviche**0.1\n",
    "        \n",
    "        utilidad_canasta_n=other.cerveza**0.3*\\\n",
    "                           other.ocio**0.6*\\\n",
    "                           other.ceviche**0.1\n",
    "        return utilidad_canasta_1==utilidad_canasta_n\n",
    "        "
   ]
  },
  {
   "cell_type": "code",
   "execution_count": 5,
   "metadata": {},
   "outputs": [
    {
     "data": {
      "text/plain": [
       "False"
      ]
     },
     "execution_count": 5,
     "metadata": {},
     "output_type": "execute_result"
    }
   ],
   "source": [
    "canasta_1=Canasta(5,10,3)\n",
    "canasta_3=Canasta(2,1,10)\n",
    "canasta_1<canasta_3"
   ]
  },
  {
   "cell_type": "code",
   "execution_count": 6,
   "metadata": {},
   "outputs": [
    {
     "data": {
      "text/plain": [
       "True"
      ]
     },
     "execution_count": 6,
     "metadata": {},
     "output_type": "execute_result"
    }
   ],
   "source": [
    "canasta_1=Canasta(5,10,3)\n",
    "canasta_3=Canasta(5,10,3)\n",
    "canasta_1==canasta_3"
   ]
  },
  {
   "cell_type": "code",
   "execution_count": 26,
   "metadata": {},
   "outputs": [],
   "source": [
    "class Mensaje(object):\n",
    "    \n",
    "    def __init__(self,mensaje):\n",
    "        self.mensaje=str(mensaje)\n",
    "    \n",
    "    def encriptar (self):\n",
    "        mensaje_encriptado=\"\"\n",
    "        for i in range (len(self.mensaje)):\n",
    "            mensaje_encriptado+=chr(ord(self.mensaje[i])+3)\n",
    "        return mensaje_encriptado\n",
    "    \n",
    "    def desencriptar (self):\n",
    "        mensaje_encriptado=\"\"\n",
    "        for i in range (len(self.mensaje)):\n",
    "            mensaje_encriptado+=chr(ord(self.mensaje[i])-3)\n",
    "        return mensaje_encriptado    \n",
    "    "
   ]
  },
  {
   "cell_type": "code",
   "execution_count": 24,
   "metadata": {},
   "outputs": [],
   "source": [
    "A=Mensaje('Navas')"
   ]
  },
  {
   "cell_type": "code",
   "execution_count": 25,
   "metadata": {},
   "outputs": [
    {
     "data": {
      "text/plain": [
       "'Qdydv'"
      ]
     },
     "execution_count": 25,
     "metadata": {},
     "output_type": "execute_result"
    }
   ],
   "source": [
    "A.encriptar()"
   ]
  },
  {
   "cell_type": "code",
   "execution_count": 27,
   "metadata": {},
   "outputs": [],
   "source": [
    "A=Mensaje('Qdydv')"
   ]
  },
  {
   "cell_type": "code",
   "execution_count": 29,
   "metadata": {},
   "outputs": [
    {
     "data": {
      "text/plain": [
       "'Navas'"
      ]
     },
     "execution_count": 29,
     "metadata": {},
     "output_type": "execute_result"
    }
   ],
   "source": [
    "A.desencriptar()"
   ]
  }
 ],
 "metadata": {
  "kernelspec": {
   "display_name": "Python 3",
   "language": "python",
   "name": "python3"
  },
  "language_info": {
   "codemirror_mode": {
    "name": "ipython",
    "version": 3
   },
   "file_extension": ".py",
   "mimetype": "text/x-python",
   "name": "python",
   "nbconvert_exporter": "python",
   "pygments_lexer": "ipython3",
   "version": "3.7.4"
  }
 },
 "nbformat": 4,
 "nbformat_minor": 2
}
