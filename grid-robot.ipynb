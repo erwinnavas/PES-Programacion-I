{
 "cells": [
  {
   "cell_type": "markdown",
   "metadata": {},
   "source": [
    "### Programa de Estudios Superiores 2019-2020\n",
    "### Programación I - proyecto final\n",
    "#### Elaborado por <span class=\"alert alert-info\"> ***Erwin Roberto Navas Solis*** </span><br>\n",
    "***\n",
    "***Instrucciones generales:*** resuelve el siguiente problema de acuerdo a la especificación dada. \n",
    "- El código debe ir comentado para explicar la lógica y debe ser totalmente funcional para ser considerado correcto. De lo contrario, la calificación podrá ser subjetiva.\n",
    "- Al final de la definición de la clase, obtenga una instancia y muestra que el objeto se comporta de acuerdo a las especificaciones deseadas, para poder calificarte más rápidamente.\n",
    "***"
   ]
  },
  {
   "attachments": {
    "grid-robot.png": {
     "image/png": "[encoded data removed]"
    }
   },
   "cell_type": "markdown",
   "metadata": {},
   "source": [
    "# *Drunken robot*\n",
    "\n",
    "Considere un robot que sigue una caminata aleatoria dentro de una cuadícula unidimensional, como se muestra a continuación. En cada período, el robot se mueve aleatoriamente hacia la izquierda o hacia la derecha (siempre y cuando sea posible), para ocupar una casilla diferente. Cuando el robot ocupa una casilla, esta casilla se marca de color amarillo.  \n",
    "\n",
    "![grid-robot.png](attachment:grid-robot.png)\n",
    "\n",
    "Un amigo suyo, economista, cree que este proceso estocástico puede ayudarle a entender un problema de reversión a la media de una serie de tiempo con la que está teniendo problemas recientemente, por lo que le interesa el problema de este robot. Para esto, su amigo necesita entender cuántos períodos le puede tomar a este robot marcar toda la cuadrícula de color amarillo. Entonces, le ha pedido ayuda a usted para que le ayude con algunas simulaciones.\n",
    "\n",
    "Usted ha llevado recientemente un curso de programación y pretende resolver este problema a través de la implementación de una clase de Python. \n",
    "\n",
    "## Descripción de la clase\n",
    "\n",
    "Usted va a implementar la simulación a través de la clase `DrunkenRobot` de la siguiente forma:\n",
    "\n",
    "- Al crear un objeto de esta clase, el constructor debe recibir la cantidad $n$ de casillas para crear la cuadrícula y posicionará al robot en una de estas casillas de forma aleatoria.\n",
    "\n",
    "Además, deberá implementar los siguientes métodos:\n",
    "\n",
    "- Método `takeStep` que lleve a cabo un paso del robot y marque la nueva casilla como visitada. El robot debe llevar un registro de todos los pasos que ha tomado y en qué período lo ha hecho.\n",
    "\n",
    "- `conquerAll` que utilice el método `takeStep` para mover el robot hasta visitar toda la cuadrícula.\n",
    "\n",
    "- `plotSteps` que haga una gráfica de la posición del robot (número de casilla) en cada período. Debe llamarse posterior a la ejecución de `conquerAll`.\n",
    "    - Deberá agregar una opción booleana `savePlot` para escoger si guardar la gráfica en un formato de alta calidad.\n",
    "\n",
    "- `getTrajectory` que devolverá un `DataFrame` de pandas con la posición del robot en cada período. Debe llamarse posterior a la ejecución de `conquerAll`.\n",
    "\n",
    "- **Extra**: `getCumulativeTrajectory` que devolverá un `DataFrame` de pandas con el número de casillas visitadas en cada período."
   ]
  },
  {
   "cell_type": "markdown",
   "metadata": {},
   "source": [
    "<div class=\"alert alert-info\">\n",
    "<b>Importe los paquetes que sean necesarios</b>: <br>\n",
    "\n",
    "\n",
    "</div>"
   ]
  },
  {
   "cell_type": "code",
   "execution_count": 2,
   "metadata": {},
   "outputs": [],
   "source": [
    "import numpy as np\n",
    "import matplotlib\n",
    "import matplotlib.pyplot as plt\n",
    "import pandas as pd\n",
    "import random"
   ]
  },
  {
   "cell_type": "markdown",
   "metadata": {},
   "source": [
    "<div class=\"alert alert-info\">\n",
    "<b>Escriba su código en la celda siguiente</b>: <br>\n",
    "\n",
    "\n",
    "</div>"
   ]
  },
  {
   "cell_type": "code",
   "execution_count": 7,
   "metadata": {},
   "outputs": [],
   "source": [
    "class DrunkenRobot:\n",
    "    ''' \n",
    "        Recibe la cantidad de casillas n de la cuadrícula y \n",
    "        posiciona aleatoriamente al robot.\n",
    "    '''\n",
    "    \n",
    "    \n",
    "    def __init__(self, n):\n",
    "        '''\n",
    "        Lleva a cabo un paso del robot y marca la nueva casilla \n",
    "        como visitada. El robot debe llevar un registro de todos\n",
    "        los pasos que ha tomado y en qué período lo ha hecho.\n",
    "        '''\n",
    "        \n",
    "        inicio=np.array([[0]])\n",
    "        self.pasos = np.random.normal(0,1,(1,n-1))\n",
    "        self.steps = np.ravel(pasos.pasos)\n",
    "        self.x=np.concatenate((inicio, np.cumsum(steps, axis=0)),axis=0)\n",
    "        self.plot=plt.plot(x[:],\"ro-\")\n",
    "    \n",
    "    def takeStep(self):\n",
    "        '''\n",
    "            Utiliza el método `takeStep` para mover el robot hasta \n",
    "            visitar toda la cuadrícula.\n",
    "        '''\n",
    "        return self.x\n",
    "        \n",
    "    def conquerAll(self):\n",
    "        pass\n",
    "    \n",
    "        '''\n",
    "            Realiza una gráfica de la posición del robot (número de casilla)\n",
    "            en cada período. La opción booleana `savePlot` permite\n",
    "            escoger si guardar la gráfica en un formato de alta calidad.\n",
    "        '''\n",
    "        return self.plot\n",
    "        \n",
    "    def plotSteps(self, savePlot=False):\n",
    "        pass\n",
    "    \n",
    "    '''\n",
    "        Devuelve un `DataFrame` de pandas con la posición del \n",
    "        robot en cada período.\n",
    "    '''\n",
    "    def getTrajectory(self):\n",
    "        pass\n",
    "    \n",
    "    '''\n",
    "        EXTRA.\n",
    "        Devuelve un `DataFrame` de pandas con el número de \n",
    "        casillas visitadas en cada período.\n",
    "    '''\n",
    "    def getCumulativeTrajectory(self):\n",
    "        pass"
   ]
  },
  {
   "cell_type": "markdown",
   "metadata": {},
   "source": [
    "***\n",
    "## Área de pruebas personal\n",
    "\n",
    "Utilice el siguiente espacio para llevar a cabo **sus** pruebas.\n"
   ]
  },
  {
   "cell_type": "code",
   "execution_count": 9,
   "metadata": {},
   "outputs": [
    {
     "data": {
      "image/png": "[encoded data removed]",
      "text/plain": [
       "<Figure size 432x288 with 1 Axes>"
      ]
     },
     "metadata": {
      "needs_background": "light"
     },
     "output_type": "display_data"
    }
   ],
   "source": [
    "n=10\n",
    "inicio=np.array([0])\n",
    "pasos = np.random.normal(0,1,(1,n-1))\n",
    "steps = np.ravel(pasos)\n",
    "x=np.concatenate((inicio, np.cumsum(steps, axis=0)),axis=0)\n",
    "plot=plt.plot(x[:],\"ro-\")"
   ]
  },
  {
   "cell_type": "code",
   "execution_count": 10,
   "metadata": {},
   "outputs": [
    {
     "data": {
      "text/html": [
       "<div>\n",
       "<style scoped>\n",
       "    .dataframe tbody tr th:only-of-type {\n",
       "        vertical-align: middle;\n",
       "    }\n",
       "\n",
       "    .dataframe tbody tr th {\n",
       "        vertical-align: top;\n",
       "    }\n",
       "\n",
       "    .dataframe thead th {\n",
       "        text-align: right;\n",
       "    }\n",
       "</style>\n",
       "<table border=\"1\" class=\"dataframe\">\n",
       "  <thead>\n",
       "    <tr style=\"text-align: right;\">\n",
       "      <th></th>\n",
       "      <th>x</th>\n",
       "    </tr>\n",
       "  </thead>\n",
       "  <tbody>\n",
       "    <tr>\n",
       "      <td>0</td>\n",
       "      <td>0.000000</td>\n",
       "    </tr>\n",
       "    <tr>\n",
       "      <td>1</td>\n",
       "      <td>-0.531630</td>\n",
       "    </tr>\n",
       "    <tr>\n",
       "      <td>2</td>\n",
       "      <td>1.919479</td>\n",
       "    </tr>\n",
       "    <tr>\n",
       "      <td>3</td>\n",
       "      <td>1.903565</td>\n",
       "    </tr>\n",
       "    <tr>\n",
       "      <td>4</td>\n",
       "      <td>1.987860</td>\n",
       "    </tr>\n",
       "    <tr>\n",
       "      <td>5</td>\n",
       "      <td>2.954666</td>\n",
       "    </tr>\n",
       "    <tr>\n",
       "      <td>6</td>\n",
       "      <td>3.371483</td>\n",
       "    </tr>\n",
       "    <tr>\n",
       "      <td>7</td>\n",
       "      <td>2.575669</td>\n",
       "    </tr>\n",
       "    <tr>\n",
       "      <td>8</td>\n",
       "      <td>2.003395</td>\n",
       "    </tr>\n",
       "    <tr>\n",
       "      <td>9</td>\n",
       "      <td>0.236912</td>\n",
       "    </tr>\n",
       "  </tbody>\n",
       "</table>\n",
       "</div>"
      ],
      "text/plain": [
       "          x\n",
       "0  0.000000\n",
       "1 -0.531630\n",
       "2  1.919479\n",
       "3  1.903565\n",
       "4  1.987860\n",
       "5  2.954666\n",
       "6  3.371483\n",
       "7  2.575669\n",
       "8  2.003395\n",
       "9  0.236912"
      ]
     },
     "execution_count": 10,
     "metadata": {},
     "output_type": "execute_result"
    }
   ],
   "source": [
    "df=pd.DataFrame({\"x\" : x})\n",
    "df"
   ]
  },
  {
   "cell_type": "code",
   "execution_count": null,
   "metadata": {},
   "outputs": [],
   "source": [
    "contar=df[\"x\"].count\n",
    "contar"
   ]
  },
  {
   "cell_type": "code",
   "execution_count": null,
   "metadata": {},
   "outputs": [],
   "source": []
  },
  {
   "cell_type": "code",
   "execution_count": null,
   "metadata": {},
   "outputs": [],
   "source": []
  },
  {
   "cell_type": "markdown",
   "metadata": {},
   "source": [
    "***\n",
    "## Área de pruebas para calificación\n",
    "\n",
    "Utilice el siguiente espacio para mostrarnos su implementación terminada."
   ]
  },
  {
   "cell_type": "markdown",
   "metadata": {},
   "source": [
    "<div class=\"alert alert-info\">\n",
    "<b>Pruebe el método \"takeStep\"</b>: <br>\n",
    "</div>"
   ]
  },
  {
   "cell_type": "code",
   "execution_count": 8,
   "metadata": {},
   "outputs": [
    {
     "ename": "NameError",
     "evalue": "name 'pasos' is not defined",
     "output_type": "error",
     "traceback": [
      "\u001b[1;31m---------------------------------------------------------------------------\u001b[0m",
      "\u001b[1;31mNameError\u001b[0m                                 Traceback (most recent call last)",
      "\u001b[1;32m<ipython-input-8-9e63f8b26f4b>\u001b[0m in \u001b[0;36m<module>\u001b[1;34m\u001b[0m\n\u001b[1;32m----> 1\u001b[1;33m \u001b[0mRobot\u001b[0m\u001b[1;33m=\u001b[0m\u001b[0mDrunkenRobot\u001b[0m\u001b[1;33m(\u001b[0m\u001b[1;36m10\u001b[0m\u001b[1;33m)\u001b[0m\u001b[1;33m\u001b[0m\u001b[1;33m\u001b[0m\u001b[0m\n\u001b[0m\u001b[0;32m      2\u001b[0m \u001b[0mRobot\u001b[0m\u001b[1;33m.\u001b[0m\u001b[0mx\u001b[0m\u001b[1;33m\u001b[0m\u001b[1;33m\u001b[0m\u001b[0m\n",
      "\u001b[1;32m<ipython-input-7-b1fdeeaa3b25>\u001b[0m in \u001b[0;36m__init__\u001b[1;34m(self, n)\u001b[0m\n\u001b[0;32m     15\u001b[0m         \u001b[0minicio\u001b[0m\u001b[1;33m=\u001b[0m\u001b[0mnp\u001b[0m\u001b[1;33m.\u001b[0m\u001b[0marray\u001b[0m\u001b[1;33m(\u001b[0m\u001b[1;33m[\u001b[0m\u001b[1;33m[\u001b[0m\u001b[1;36m0\u001b[0m\u001b[1;33m]\u001b[0m\u001b[1;33m]\u001b[0m\u001b[1;33m)\u001b[0m\u001b[1;33m\u001b[0m\u001b[1;33m\u001b[0m\u001b[0m\n\u001b[0;32m     16\u001b[0m         \u001b[0mself\u001b[0m\u001b[1;33m.\u001b[0m\u001b[0mpasos\u001b[0m \u001b[1;33m=\u001b[0m \u001b[0mnp\u001b[0m\u001b[1;33m.\u001b[0m\u001b[0mrandom\u001b[0m\u001b[1;33m.\u001b[0m\u001b[0mnormal\u001b[0m\u001b[1;33m(\u001b[0m\u001b[1;36m0\u001b[0m\u001b[1;33m,\u001b[0m\u001b[1;36m1\u001b[0m\u001b[1;33m,\u001b[0m\u001b[1;33m(\u001b[0m\u001b[1;36m1\u001b[0m\u001b[1;33m,\u001b[0m\u001b[0mn\u001b[0m\u001b[1;33m-\u001b[0m\u001b[1;36m1\u001b[0m\u001b[1;33m)\u001b[0m\u001b[1;33m)\u001b[0m\u001b[1;33m\u001b[0m\u001b[1;33m\u001b[0m\u001b[0m\n\u001b[1;32m---> 17\u001b[1;33m         \u001b[0mself\u001b[0m\u001b[1;33m.\u001b[0m\u001b[0msteps\u001b[0m \u001b[1;33m=\u001b[0m \u001b[0mnp\u001b[0m\u001b[1;33m.\u001b[0m\u001b[0mravel\u001b[0m\u001b[1;33m(\u001b[0m\u001b[0mpasos\u001b[0m\u001b[1;33m.\u001b[0m\u001b[0mpasos\u001b[0m\u001b[1;33m)\u001b[0m\u001b[1;33m\u001b[0m\u001b[1;33m\u001b[0m\u001b[0m\n\u001b[0m\u001b[0;32m     18\u001b[0m         \u001b[0mself\u001b[0m\u001b[1;33m.\u001b[0m\u001b[0mx\u001b[0m\u001b[1;33m=\u001b[0m\u001b[0mnp\u001b[0m\u001b[1;33m.\u001b[0m\u001b[0mconcatenate\u001b[0m\u001b[1;33m(\u001b[0m\u001b[1;33m(\u001b[0m\u001b[0minicio\u001b[0m\u001b[1;33m,\u001b[0m \u001b[0mnp\u001b[0m\u001b[1;33m.\u001b[0m\u001b[0mcumsum\u001b[0m\u001b[1;33m(\u001b[0m\u001b[0msteps\u001b[0m\u001b[1;33m,\u001b[0m \u001b[0maxis\u001b[0m\u001b[1;33m=\u001b[0m\u001b[1;36m0\u001b[0m\u001b[1;33m)\u001b[0m\u001b[1;33m)\u001b[0m\u001b[1;33m,\u001b[0m\u001b[0maxis\u001b[0m\u001b[1;33m=\u001b[0m\u001b[1;36m0\u001b[0m\u001b[1;33m)\u001b[0m\u001b[1;33m\u001b[0m\u001b[1;33m\u001b[0m\u001b[0m\n\u001b[0;32m     19\u001b[0m         \u001b[0mself\u001b[0m\u001b[1;33m.\u001b[0m\u001b[0mplot\u001b[0m\u001b[1;33m=\u001b[0m\u001b[0mplt\u001b[0m\u001b[1;33m.\u001b[0m\u001b[0mplot\u001b[0m\u001b[1;33m(\u001b[0m\u001b[0mx\u001b[0m\u001b[1;33m[\u001b[0m\u001b[1;33m:\u001b[0m\u001b[1;33m]\u001b[0m\u001b[1;33m,\u001b[0m\u001b[1;34m\"ro-\"\u001b[0m\u001b[1;33m)\u001b[0m\u001b[1;33m\u001b[0m\u001b[1;33m\u001b[0m\u001b[0m\n",
      "\u001b[1;31mNameError\u001b[0m: name 'pasos' is not defined"
     ]
    }
   ],
   "source": [
    "Robot=DrunkenRobot(10)\n",
    "Robot.x"
   ]
  },
  {
   "cell_type": "markdown",
   "metadata": {},
   "source": [
    "<div class=\"alert alert-info\">\n",
    "<b>Pruebe el método \"conquerAll\"</b>: <br>\n",
    "</div>"
   ]
  },
  {
   "cell_type": "code",
   "execution_count": null,
   "metadata": {},
   "outputs": [],
   "source": []
  },
  {
   "cell_type": "markdown",
   "metadata": {},
   "source": [
    "<div class=\"alert alert-info\">\n",
    "<b>Pruebe el método \"plotSteps\"</b>: <br>\n",
    "</div>"
   ]
  },
  {
   "cell_type": "code",
   "execution_count": null,
   "metadata": {},
   "outputs": [],
   "source": []
  },
  {
   "cell_type": "markdown",
   "metadata": {},
   "source": [
    "<div class=\"alert alert-info\">\n",
    "<b>Pruebe el método \"getTrajectory\"</b>: <br>\n",
    "</div>"
   ]
  },
  {
   "cell_type": "code",
   "execution_count": null,
   "metadata": {},
   "outputs": [],
   "source": []
  },
  {
   "cell_type": "markdown",
   "metadata": {},
   "source": [
    "<div class=\"alert alert-info\">\n",
    "<b>Muestre cada uno de los atribujos del objeto utilizado en el ejemplo</b>: <br>\n",
    "</div>"
   ]
  },
  {
   "cell_type": "code",
   "execution_count": null,
   "metadata": {},
   "outputs": [],
   "source": []
  }
 ],
 "metadata": {
  "kernelspec": {
   "display_name": "Python 3",
   "language": "python",
   "name": "python3"
  },
  "language_info": {
   "codemirror_mode": {
    "name": "ipython",
    "version": 3
   },
   "file_extension": ".py",
   "mimetype": "text/x-python",
   "name": "python",
   "nbconvert_exporter": "python",
   "pygments_lexer": "ipython3",
   "version": "3.7.4"
  }
 },
 "nbformat": 4,
 "nbformat_minor": 2
}
